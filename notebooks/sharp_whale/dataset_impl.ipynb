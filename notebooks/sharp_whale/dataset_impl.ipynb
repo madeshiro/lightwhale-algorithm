{
 "cells": [
  {
   "cell_type": "markdown",
   "id": "3c8bb9479071de8e",
   "metadata": {},
   "source": [
    "# Dataset implementation from video or images' set\n",
    "> Jupyter notebook to showcase how images and videos are transformed to a dataset usable\n",
    "> in an auto-encoder\n",
    "---"
   ]
  },
  {
   "cell_type": "markdown",
   "id": "3d265401d2b340da",
   "metadata": {},
   "source": [
    "## 1) Imports need packages\n",
    "Requirements are as followed:\n",
    "- numpy \n",
    "- pandas"
   ]
  },
  {
   "cell_type": "code",
   "execution_count": 1,
   "id": "6d1b2d8b753ea124",
   "metadata": {
    "ExecuteTime": {
     "end_time": "2024-11-01T17:32:56.099308Z",
     "start_time": "2024-11-01T17:32:55.859177Z"
    }
   },
   "outputs": [],
   "source": [
    "import numpy as np\n",
    "import pandas as pd"
   ]
  }
 ],
 "metadata": {
  "kernelspec": {
   "display_name": "Python 3 (ipykernel)",
   "language": "python",
   "name": "python3"
  },
  "language_info": {
   "codemirror_mode": {
    "name": "ipython",
    "version": 3
   },
   "file_extension": ".py",
   "mimetype": "text/x-python",
   "name": "python",
   "nbconvert_exporter": "python",
   "pygments_lexer": "ipython3",
   "version": "3.12.7"
  }
 },
 "nbformat": 4,
 "nbformat_minor": 5
}
